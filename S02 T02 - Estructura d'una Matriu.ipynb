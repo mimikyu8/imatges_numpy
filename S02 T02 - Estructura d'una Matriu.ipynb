{
 "cells": [
  {
   "cell_type": "markdown",
   "id": "eb8a8d4c",
   "metadata": {},
   "source": [
    "# Exercici 1"
   ]
  },
  {
   "cell_type": "markdown",
   "id": "7569f8fd",
   "metadata": {},
   "source": [
    "Crea un np.array d'una dimensió, que inclogui l'almenys 8 nombres sencers, data type int64. Mostra la dimensió i la forma de la matriu."
   ]
  },
  {
   "cell_type": "code",
   "execution_count": 13,
   "id": "b1e9f978",
   "metadata": {},
   "outputs": [],
   "source": [
    "import numpy as np"
   ]
  },
  {
   "cell_type": "code",
   "execution_count": 14,
   "id": "197cfe53",
   "metadata": {},
   "outputs": [],
   "source": [
    "arr = np.array([3, 5, 6, 7, 8, 1, 6, 9, 2], dtype = np.int64)"
   ]
  },
  {
   "cell_type": "code",
   "execution_count": 15,
   "id": "d3d668d2",
   "metadata": {},
   "outputs": [
    {
     "name": "stdout",
     "output_type": "stream",
     "text": [
      "1\n"
     ]
    }
   ],
   "source": [
    "print(arr.ndim)"
   ]
  },
  {
   "cell_type": "code",
   "execution_count": 16,
   "id": "481d5360",
   "metadata": {},
   "outputs": [
    {
     "name": "stdout",
     "output_type": "stream",
     "text": [
      "(9,)\n"
     ]
    }
   ],
   "source": [
    "print(arr.shape)"
   ]
  },
  {
   "cell_type": "markdown",
   "id": "7ea25add",
   "metadata": {},
   "source": [
    "# Exercici 2"
   ]
  },
  {
   "cell_type": "markdown",
   "id": "a5f00aa1",
   "metadata": {},
   "source": [
    "De la matriu de l'exercici 1, calcula el valor mitjà dels valors introduïts i resta la mitjana resultant de cada un dels valors de la matriu."
   ]
  },
  {
   "cell_type": "code",
   "execution_count": 17,
   "id": "61b51cbf",
   "metadata": {},
   "outputs": [
    {
     "name": "stdout",
     "output_type": "stream",
     "text": [
      "5.222222222222222\n"
     ]
    }
   ],
   "source": [
    "print(arr.mean())"
   ]
  },
  {
   "cell_type": "code",
   "execution_count": 18,
   "id": "18909c10",
   "metadata": {},
   "outputs": [
    {
     "data": {
      "text/plain": [
       "array([-2.22222222, -0.22222222,  0.77777778,  1.77777778,  2.77777778,\n",
       "       -4.22222222,  0.77777778,  3.77777778, -3.22222222])"
      ]
     },
     "execution_count": 18,
     "metadata": {},
     "output_type": "execute_result"
    }
   ],
   "source": [
    "np.subtract(arr, arr.mean())"
   ]
  },
  {
   "cell_type": "markdown",
   "id": "ef9593f0",
   "metadata": {},
   "source": [
    "# Exercici 3"
   ]
  },
  {
   "cell_type": "markdown",
   "id": "7085dcfb",
   "metadata": {},
   "source": [
    "Crea una matriu bidimensional amb una forma de 5 x 5. Extreu el valor màxim de la matriu, i els valors màxims de cadascun dels seus eixos."
   ]
  },
  {
   "cell_type": "code",
   "execution_count": 98,
   "id": "deddeb8f",
   "metadata": {},
   "outputs": [
    {
     "data": {
      "text/plain": [
       "array([4, 2, 4, 7, 8])"
      ]
     },
     "execution_count": 98,
     "metadata": {},
     "output_type": "execute_result"
    }
   ],
   "source": [
    "matriu = np.array([[3, 5, 6, 7, 4],\n",
    "                  [8, 1, 6, 9, 2],\n",
    "                  [2, 7, 1, 3, 4],\n",
    "                  [3, 6, 4, 2, 7],\n",
    "                  [6, 5, 3, 1, 8]])"
   ]
  },
  {
   "cell_type": "code",
   "execution_count": 20,
   "id": "04b9c3e7",
   "metadata": {},
   "outputs": [
    {
     "name": "stdout",
     "output_type": "stream",
     "text": [
      "9\n"
     ]
    }
   ],
   "source": [
    "print(matriu.max())"
   ]
  },
  {
   "cell_type": "code",
   "execution_count": 21,
   "id": "9e69a5f2",
   "metadata": {},
   "outputs": [
    {
     "name": "stdout",
     "output_type": "stream",
     "text": [
      "[7 9 7 7 8]\n"
     ]
    }
   ],
   "source": [
    "print(matriu.max(axis = 1))"
   ]
  },
  {
   "cell_type": "markdown",
   "id": "4c248364",
   "metadata": {},
   "source": [
    "# Exercici 4"
   ]
  },
  {
   "cell_type": "markdown",
   "id": "9c5dba9a",
   "metadata": {},
   "source": [
    "Mostreu-me amb exemples de diferents matrius, la **regla fonamental de Broadcasting** que diu: \"les matrius es poden transmetre / broadcast si les seves dimensions coincideixen o si una de les matrius té una mida d'1\"."
   ]
  },
  {
   "cell_type": "code",
   "execution_count": 33,
   "id": "15347956",
   "metadata": {},
   "outputs": [
    {
     "name": "stdout",
     "output_type": "stream",
     "text": [
      "[[0.41619169 0.36952617 0.86703907 0.66998103]\n",
      " [0.60222795 0.10941856 0.31094785 0.89963867]\n",
      " [0.31129678 0.10323025 0.76312123 0.37226328]]\n"
     ]
    }
   ],
   "source": [
    "a = np.random.random((3, 4))\n",
    "b = np.ones((3, 4))\n",
    "c = np.ones((1, 4))\n",
    "d = np.random.random((3, 1))"
   ]
  },
  {
   "cell_type": "code",
   "execution_count": 23,
   "id": "3ed3927d",
   "metadata": {},
   "outputs": [
    {
     "data": {
      "text/plain": [
       "array([[1.95246815, 1.41201607, 1.73657959, 1.27717783],\n",
       "       [1.38421701, 1.01456639, 1.72753803, 1.13168779],\n",
       "       [1.40748828, 1.72929737, 1.29348373, 1.82727106]])"
      ]
     },
     "execution_count": 23,
     "metadata": {},
     "output_type": "execute_result"
    }
   ],
   "source": [
    "a + b"
   ]
  },
  {
   "cell_type": "code",
   "execution_count": 24,
   "id": "4b497a22",
   "metadata": {},
   "outputs": [
    {
     "data": {
      "text/plain": [
       "array([[ 0.92489035,  0.38443826,  0.70900179,  0.24960002],\n",
       "       [-0.16224693, -0.53189755,  0.1810741 , -0.41477615],\n",
       "       [-0.12673655,  0.19507255, -0.2407411 ,  0.29304624]])"
      ]
     },
     "execution_count": 24,
     "metadata": {},
     "output_type": "execute_result"
    }
   ],
   "source": [
    "a - d"
   ]
  },
  {
   "cell_type": "code",
   "execution_count": 25,
   "id": "0ed0842d",
   "metadata": {},
   "outputs": [
    {
     "data": {
      "text/plain": [
       "array([[0.95246815, 0.41201607, 0.73657959, 0.27717783],\n",
       "       [0.38421701, 0.01456639, 0.72753803, 0.13168779],\n",
       "       [0.40748828, 0.72929737, 0.29348373, 0.82727106]])"
      ]
     },
     "execution_count": 25,
     "metadata": {},
     "output_type": "execute_result"
    }
   ],
   "source": [
    "a * c"
   ]
  },
  {
   "cell_type": "code",
   "execution_count": 26,
   "id": "96641f7f",
   "metadata": {},
   "outputs": [
    {
     "data": {
      "text/plain": [
       "array([[36.26104412, 36.26104412, 36.26104412, 36.26104412],\n",
       "       [ 1.82994693,  1.82994693,  1.82994693,  1.82994693],\n",
       "       [ 1.87187109,  1.87187109,  1.87187109,  1.87187109]])"
      ]
     },
     "execution_count": 26,
     "metadata": {},
     "output_type": "execute_result"
    }
   ],
   "source": [
    "c / d"
   ]
  },
  {
   "cell_type": "markdown",
   "id": "d5a5c8a0",
   "metadata": {},
   "source": [
    "# Exercici 5"
   ]
  },
  {
   "cell_type": "markdown",
   "id": "0742576c",
   "metadata": {},
   "source": [
    "Utilitza la Indexació per extreure els valors d'una columna i una fila de la matriu. I suma els seus valors."
   ]
  },
  {
   "cell_type": "code",
   "execution_count": 121,
   "id": "4e91de85",
   "metadata": {},
   "outputs": [
    {
     "name": "stdout",
     "output_type": "stream",
     "text": [
      "[3 5 6 7 4]\n"
     ]
    }
   ],
   "source": [
    "fila_1 = matriu[0, :]\n",
    "print(fila_1)"
   ]
  },
  {
   "cell_type": "code",
   "execution_count": 122,
   "id": "3b76684f",
   "metadata": {},
   "outputs": [
    {
     "name": "stdout",
     "output_type": "stream",
     "text": [
      "[5 1 7 6 5]\n"
     ]
    }
   ],
   "source": [
    "columna_2 = matriu[:, 1]\n",
    "print(columna_2)"
   ]
  },
  {
   "cell_type": "code",
   "execution_count": 123,
   "id": "5f6f6fc5",
   "metadata": {},
   "outputs": [
    {
     "data": {
      "text/plain": [
       "array([ 8,  6, 13, 13,  9])"
      ]
     },
     "execution_count": 123,
     "metadata": {},
     "output_type": "execute_result"
    }
   ],
   "source": [
    "fila_1 + columna_2"
   ]
  },
  {
   "cell_type": "markdown",
   "id": "8820068b",
   "metadata": {},
   "source": [
    "# Exercici 6"
   ]
  },
  {
   "cell_type": "markdown",
   "id": "4d2867b8",
   "metadata": {},
   "source": [
    "Mask la matriu anterior, realitzeu un càlcul booleà vectoritzat, **agafant cada element i comprovant si es divideix uniformement per quatre.**\n",
    "\n",
    "Això retorna una matriu de mask de la mateixa forma amb els resultats elementals del càlcul."
   ]
  },
  {
   "cell_type": "code",
   "execution_count": 43,
   "id": "02e893ac",
   "metadata": {},
   "outputs": [],
   "source": [
    "import numpy.ma as ma "
   ]
  },
  {
   "cell_type": "code",
   "execution_count": 51,
   "id": "e5d48884",
   "metadata": {},
   "outputs": [],
   "source": [
    "mask = matriu % 4 == 0"
   ]
  },
  {
   "cell_type": "code",
   "execution_count": 52,
   "id": "f8318d7b",
   "metadata": {},
   "outputs": [
    {
     "data": {
      "text/plain": [
       "array([[False, False, False, False,  True],\n",
       "       [ True, False, False, False, False],\n",
       "       [False, False, False, False,  True],\n",
       "       [False, False,  True, False, False],\n",
       "       [False, False, False, False,  True]])"
      ]
     },
     "execution_count": 52,
     "metadata": {},
     "output_type": "execute_result"
    }
   ],
   "source": [
    "mask"
   ]
  },
  {
   "cell_type": "markdown",
   "id": "0c6b72cd",
   "metadata": {},
   "source": [
    "# Exercici 7"
   ]
  },
  {
   "cell_type": "markdown",
   "id": "8af80290",
   "metadata": {},
   "source": [
    "A continuació, utilitzeu aquesta màscara per indexar a la matriu de números original. Això fa que la matriu perdi la seva forma original, reduint-la a una dimensió, però encara obteniu les dades que esteu cercant."
   ]
  },
  {
   "cell_type": "code",
   "execution_count": 55,
   "id": "02f26042",
   "metadata": {},
   "outputs": [
    {
     "data": {
      "text/plain": [
       "array([4, 8, 4, 4, 8])"
      ]
     },
     "execution_count": 55,
     "metadata": {},
     "output_type": "execute_result"
    }
   ],
   "source": [
    "matriu[mask]"
   ]
  },
  {
   "cell_type": "markdown",
   "id": "7c3bb9f7",
   "metadata": {},
   "source": [
    "# Exercici 8"
   ]
  },
  {
   "cell_type": "markdown",
   "id": "335961c2",
   "metadata": {},
   "source": [
    "Carregareu qualsevol imatge (jpg, png ..) amb Matplotlib. adoneu-vos que les imatges RGB (Red, Green, Blue) són realment \n",
    "només amplades × alçades × 3 matrius (tres canals Vermell, Verd i Blau), una per cada color de nombres enters int8, \n",
    "manipuleu aquests bytes i torneu a utilitzar Matplotlib per desar la imatge modificada un cop hàgiu acabat.\n",
    "\n",
    "Mostreu-me a veure que passa quan eliminem el canal G Verd o B Blau.\n",
    "\n",
    "Mostreu-me a veure què passa quan eliminem el canal G Verd o B Blau. Hauries d'utilitzar la indexació per seleccionar el canal que voleu anul·lar.\n",
    "\n",
    "Utilitzar el mètode, mpimg.imsave () de la llibreria importada, per guardar les imatges modificades i que haureu de pujar al vostre repositori a github."
   ]
  },
  {
   "cell_type": "code",
   "execution_count": 76,
   "id": "6ec446a5",
   "metadata": {},
   "outputs": [],
   "source": [
    "import matplotlib.pyplot as plt\n",
    "import matplotlib.image as mpimg"
   ]
  },
  {
   "cell_type": "code",
   "execution_count": 77,
   "id": "6ac2f13e",
   "metadata": {},
   "outputs": [],
   "source": [
    "img = mpimg.imread(\"pompompurin.jpg\")"
   ]
  },
  {
   "cell_type": "code",
   "execution_count": 120,
   "id": "02b47625",
   "metadata": {},
   "outputs": [],
   "source": [
    "img_edit = img[:, :, 2] + img[:, :, 0]"
   ]
  },
  {
   "cell_type": "code",
   "execution_count": 132,
   "id": "1e7548f7",
   "metadata": {},
   "outputs": [],
   "source": [
    "mpimg.imsave(\"img_edit.jpg\", img_edit)"
   ]
  }
 ],
 "metadata": {
  "kernelspec": {
   "display_name": "Python 3 (ipykernel)",
   "language": "python",
   "name": "python3"
  },
  "language_info": {
   "codemirror_mode": {
    "name": "ipython",
    "version": 3
   },
   "file_extension": ".py",
   "mimetype": "text/x-python",
   "name": "python",
   "nbconvert_exporter": "python",
   "pygments_lexer": "ipython3",
   "version": "3.9.7"
  },
  "toc": {
   "base_numbering": 1,
   "nav_menu": {},
   "number_sections": true,
   "sideBar": true,
   "skip_h1_title": false,
   "title_cell": "Table of Contents",
   "title_sidebar": "Contents",
   "toc_cell": false,
   "toc_position": {},
   "toc_section_display": true,
   "toc_window_display": false
  }
 },
 "nbformat": 4,
 "nbformat_minor": 5
}
