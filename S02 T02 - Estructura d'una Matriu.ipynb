{
 "cells": [
  {
   "cell_type": "markdown",
   "id": "eb8a8d4c",
   "metadata": {},
   "source": [
    "# Exercici 1"
   ]
  },
  {
   "cell_type": "markdown",
   "id": "7569f8fd",
   "metadata": {},
   "source": [
    "Crea un np.array d'una dimensió, que inclogui l'almenys 8 nombres sencers, data type int64. Mostra la dimensió i la forma de la matriu."
   ]
  },
  {
   "cell_type": "code",
   "execution_count": 44,
   "id": "b1e9f978",
   "metadata": {},
   "outputs": [],
   "source": [
    "import numpy as np"
   ]
  },
  {
   "cell_type": "code",
   "execution_count": 45,
   "id": "197cfe53",
   "metadata": {},
   "outputs": [],
   "source": [
    "arr = np.array([3, 5, 6, 7, 8, 1, 6, 9, 2], dtype = np.int64)"
   ]
  },
  {
   "cell_type": "code",
   "execution_count": 46,
   "id": "d3d668d2",
   "metadata": {},
   "outputs": [
    {
     "data": {
      "text/plain": [
       "1"
      ]
     },
     "execution_count": 46,
     "metadata": {},
     "output_type": "execute_result"
    }
   ],
   "source": [
    "arr.ndim"
   ]
  },
  {
   "cell_type": "code",
   "execution_count": 47,
   "id": "481d5360",
   "metadata": {},
   "outputs": [
    {
     "data": {
      "text/plain": [
       "(9,)"
      ]
     },
     "execution_count": 47,
     "metadata": {},
     "output_type": "execute_result"
    }
   ],
   "source": [
    "arr.shape"
   ]
  },
  {
   "cell_type": "markdown",
   "id": "7ea25add",
   "metadata": {},
   "source": [
    "# Exercici 2"
   ]
  },
  {
   "cell_type": "markdown",
   "id": "a5f00aa1",
   "metadata": {},
   "source": [
    "De la matriu de l'exercici 1, calcula el valor mitjà dels valors introduïts i resta la mitjana resultant de cada un dels valors de la matriu."
   ]
  },
  {
   "cell_type": "code",
   "execution_count": 48,
   "id": "61b51cbf",
   "metadata": {},
   "outputs": [
    {
     "data": {
      "text/plain": [
       "5.222222222222222"
      ]
     },
     "execution_count": 48,
     "metadata": {},
     "output_type": "execute_result"
    }
   ],
   "source": [
    "arr.mean()"
   ]
  },
  {
   "cell_type": "code",
   "execution_count": 49,
   "id": "18909c10",
   "metadata": {},
   "outputs": [
    {
     "data": {
      "text/plain": [
       "array([-2.22222222, -0.22222222,  0.77777778,  1.77777778,  2.77777778,\n",
       "       -4.22222222,  0.77777778,  3.77777778, -3.22222222])"
      ]
     },
     "execution_count": 49,
     "metadata": {},
     "output_type": "execute_result"
    }
   ],
   "source": [
    "np.subtract(arr, arr.mean())"
   ]
  },
  {
   "cell_type": "markdown",
   "id": "ef9593f0",
   "metadata": {},
   "source": [
    "# Exercici 3"
   ]
  },
  {
   "cell_type": "markdown",
   "id": "7085dcfb",
   "metadata": {},
   "source": [
    "Crea una matriu bidimensional amb una forma de 5 x 5. Extreu el valor màxim de la matriu, i els valors màxims de cadascun dels seus eixos."
   ]
  },
  {
   "cell_type": "code",
   "execution_count": 50,
   "id": "deddeb8f",
   "metadata": {},
   "outputs": [],
   "source": [
    "matriu = np.array([[3, 5, 6, 7, 4],\n",
    "                  [8, 1, 6, 9, 2],\n",
    "                  [2, 7, 1, 3, 4],\n",
    "                  [3, 6, 4, 2, 7],\n",
    "                  [6, 5, 3, 1, 8]])"
   ]
  },
  {
   "cell_type": "code",
   "execution_count": 51,
   "id": "04b9c3e7",
   "metadata": {},
   "outputs": [
    {
     "data": {
      "text/plain": [
       "9"
      ]
     },
     "execution_count": 51,
     "metadata": {},
     "output_type": "execute_result"
    }
   ],
   "source": [
    "matriu.max()"
   ]
  },
  {
   "cell_type": "code",
   "execution_count": 52,
   "id": "9e69a5f2",
   "metadata": {},
   "outputs": [
    {
     "data": {
      "text/plain": [
       "array([8, 7, 6, 9, 8])"
      ]
     },
     "execution_count": 52,
     "metadata": {},
     "output_type": "execute_result"
    }
   ],
   "source": [
    "matriu.max(axis = 0)"
   ]
  },
  {
   "cell_type": "code",
   "execution_count": 53,
   "id": "e56df484",
   "metadata": {},
   "outputs": [
    {
     "data": {
      "text/plain": [
       "array([7, 9, 7, 7, 8])"
      ]
     },
     "execution_count": 53,
     "metadata": {},
     "output_type": "execute_result"
    }
   ],
   "source": [
    "matriu.max(axis = 1)"
   ]
  },
  {
   "cell_type": "markdown",
   "id": "4c248364",
   "metadata": {},
   "source": [
    "# Exercici 4"
   ]
  },
  {
   "cell_type": "markdown",
   "id": "9c5dba9a",
   "metadata": {},
   "source": [
    "Mostreu-me amb exemples de diferents matrius, la **regla fonamental de Broadcasting** que diu: \"les matrius es poden transmetre / broadcast si les seves dimensions coincideixen o si una de les matrius té una mida d'1\"."
   ]
  },
  {
   "cell_type": "code",
   "execution_count": 54,
   "id": "15347956",
   "metadata": {},
   "outputs": [],
   "source": [
    "a = np.random.random((3, 4))\n",
    "b = np.ones((3, 4))\n",
    "c = np.ones((1, 4))\n",
    "d = np.random.random((3, 1))\n",
    "e = np.random.random((4, 4))\n",
    "f = np.random.random((1, 5))"
   ]
  },
  {
   "cell_type": "code",
   "execution_count": 55,
   "id": "3ed3927d",
   "metadata": {},
   "outputs": [
    {
     "data": {
      "text/plain": [
       "array([[1.39258543, 1.24900926, 1.56618096, 1.8120609 ],\n",
       "       [1.8726041 , 1.93122357, 1.94613682, 1.2115617 ],\n",
       "       [1.12577811, 1.96217879, 1.90483288, 1.67603078]])"
      ]
     },
     "execution_count": 55,
     "metadata": {},
     "output_type": "execute_result"
    }
   ],
   "source": [
    "a + b"
   ]
  },
  {
   "cell_type": "code",
   "execution_count": 56,
   "id": "4b497a22",
   "metadata": {},
   "outputs": [
    {
     "data": {
      "text/plain": [
       "array([[ 0.37251032,  0.22893415,  0.54610586,  0.7919858 ],\n",
       "       [ 0.50359486,  0.56221432,  0.57712757, -0.15744755],\n",
       "       [ 0.07747013,  0.9138708 ,  0.8565249 ,  0.6277228 ]])"
      ]
     },
     "execution_count": 56,
     "metadata": {},
     "output_type": "execute_result"
    }
   ],
   "source": [
    "a - d"
   ]
  },
  {
   "cell_type": "code",
   "execution_count": 57,
   "id": "0ed0842d",
   "metadata": {},
   "outputs": [
    {
     "data": {
      "text/plain": [
       "array([[0.39258543, 0.24900926, 0.56618096, 0.8120609 ],\n",
       "       [0.8726041 , 0.93122357, 0.94613682, 0.2115617 ],\n",
       "       [0.12577811, 0.96217879, 0.90483288, 0.67603078]])"
      ]
     },
     "execution_count": 57,
     "metadata": {},
     "output_type": "execute_result"
    }
   ],
   "source": [
    "a * c"
   ]
  },
  {
   "cell_type": "code",
   "execution_count": 58,
   "id": "96641f7f",
   "metadata": {},
   "outputs": [
    {
     "data": {
      "text/plain": [
       "array([[49.81293444, 49.81293444, 49.81293444, 49.81293444],\n",
       "       [ 2.7099592 ,  2.7099592 ,  2.7099592 ,  2.7099592 ],\n",
       "       [20.70051247, 20.70051247, 20.70051247, 20.70051247]])"
      ]
     },
     "execution_count": 58,
     "metadata": {},
     "output_type": "execute_result"
    }
   ],
   "source": [
    "c / d"
   ]
  },
  {
   "cell_type": "code",
   "execution_count": 59,
   "id": "7f1e001f",
   "metadata": {},
   "outputs": [
    {
     "ename": "ValueError",
     "evalue": "operands could not be broadcast together with shapes (3,4) (4,4) ",
     "output_type": "error",
     "traceback": [
      "\u001b[1;31m---------------------------------------------------------------------------\u001b[0m",
      "\u001b[1;31mValueError\u001b[0m                                Traceback (most recent call last)",
      "\u001b[1;32m~\\AppData\\Local\\Temp/ipykernel_15268/3531073975.py\u001b[0m in \u001b[0;36m<module>\u001b[1;34m\u001b[0m\n\u001b[1;32m----> 1\u001b[1;33m \u001b[0ma\u001b[0m \u001b[1;33m+\u001b[0m \u001b[0me\u001b[0m \u001b[1;31m#donarà error perque no tenen les mateixes dimensions.\u001b[0m\u001b[1;33m\u001b[0m\u001b[1;33m\u001b[0m\u001b[0m\n\u001b[0m",
      "\u001b[1;31mValueError\u001b[0m: operands could not be broadcast together with shapes (3,4) (4,4) "
     ]
    }
   ],
   "source": [
    "a + e #donarà error perque no tenen les mateixes dimensions. "
   ]
  },
  {
   "cell_type": "code",
   "execution_count": 60,
   "id": "060962b7",
   "metadata": {},
   "outputs": [
    {
     "ename": "ValueError",
     "evalue": "operands could not be broadcast together with shapes (3,4) (1,5) ",
     "output_type": "error",
     "traceback": [
      "\u001b[1;31m---------------------------------------------------------------------------\u001b[0m",
      "\u001b[1;31mValueError\u001b[0m                                Traceback (most recent call last)",
      "\u001b[1;32m~\\AppData\\Local\\Temp/ipykernel_15268/3630075793.py\u001b[0m in \u001b[0;36m<module>\u001b[1;34m\u001b[0m\n\u001b[1;32m----> 1\u001b[1;33m \u001b[0ma\u001b[0m \u001b[1;33m+\u001b[0m \u001b[0mf\u001b[0m \u001b[1;31m#també dona error perquè tot i tenir una matriu que té un eix de mida 1, l'altre no coincideix\u001b[0m\u001b[1;33m\u001b[0m\u001b[1;33m\u001b[0m\u001b[0m\n\u001b[0m",
      "\u001b[1;31mValueError\u001b[0m: operands could not be broadcast together with shapes (3,4) (1,5) "
     ]
    }
   ],
   "source": [
    "a + f #també dona error perquè tot i tenir una matriu que té un eix de mida 1, l'altre no coincideix"
   ]
  },
  {
   "cell_type": "markdown",
   "id": "d5a5c8a0",
   "metadata": {},
   "source": [
    "# Exercici 5"
   ]
  },
  {
   "cell_type": "markdown",
   "id": "0742576c",
   "metadata": {},
   "source": [
    "Utilitza la Indexació per extreure els valors d'una columna i una fila de la matriu. I suma els seus valors."
   ]
  },
  {
   "cell_type": "code",
   "execution_count": 61,
   "id": "4e91de85",
   "metadata": {},
   "outputs": [
    {
     "name": "stdout",
     "output_type": "stream",
     "text": [
      "Els valors de la fila 1 són: [3 5 6 7 4]\n"
     ]
    }
   ],
   "source": [
    "fila_1 = matriu[0, :]\n",
    "print(\"Els valors de la fila 1 són:\", fila_1)"
   ]
  },
  {
   "cell_type": "code",
   "execution_count": 62,
   "id": "3b76684f",
   "metadata": {},
   "outputs": [
    {
     "name": "stdout",
     "output_type": "stream",
     "text": [
      "Els valors de la columna 2 són: [5 1 7 6 5]\n"
     ]
    }
   ],
   "source": [
    "columna_2 = matriu[:, 1]\n",
    "print(\"Els valors de la columna 2 són:\", columna_2)"
   ]
  },
  {
   "cell_type": "code",
   "execution_count": 63,
   "id": "5f6f6fc5",
   "metadata": {},
   "outputs": [
    {
     "name": "stdout",
     "output_type": "stream",
     "text": [
      "La suma dels seus valors és [ 8  6 13 13  9]\n"
     ]
    }
   ],
   "source": [
    "print(\"La suma dels seus valors és\", fila_1 + columna_2)"
   ]
  },
  {
   "cell_type": "markdown",
   "id": "8820068b",
   "metadata": {},
   "source": [
    "# Exercici 6"
   ]
  },
  {
   "cell_type": "markdown",
   "id": "4d2867b8",
   "metadata": {},
   "source": [
    "Mask la matriu anterior, realitzeu un càlcul booleà vectoritzat, **agafant cada element i comprovant si es divideix uniformement per quatre.**\n",
    "\n",
    "Això retorna una matriu de mask de la mateixa forma amb els resultats elementals del càlcul."
   ]
  },
  {
   "cell_type": "code",
   "execution_count": 64,
   "id": "02e893ac",
   "metadata": {},
   "outputs": [],
   "source": [
    "import numpy.ma as ma "
   ]
  },
  {
   "cell_type": "code",
   "execution_count": 65,
   "id": "e5d48884",
   "metadata": {},
   "outputs": [],
   "source": [
    "mask = matriu % 4 == 0"
   ]
  },
  {
   "cell_type": "code",
   "execution_count": 66,
   "id": "f8318d7b",
   "metadata": {},
   "outputs": [
    {
     "data": {
      "text/plain": [
       "array([[False, False, False, False,  True],\n",
       "       [ True, False, False, False, False],\n",
       "       [False, False, False, False,  True],\n",
       "       [False, False,  True, False, False],\n",
       "       [False, False, False, False,  True]])"
      ]
     },
     "execution_count": 66,
     "metadata": {},
     "output_type": "execute_result"
    }
   ],
   "source": [
    "mask"
   ]
  },
  {
   "cell_type": "markdown",
   "id": "0c6b72cd",
   "metadata": {},
   "source": [
    "# Exercici 7"
   ]
  },
  {
   "cell_type": "markdown",
   "id": "8af80290",
   "metadata": {},
   "source": [
    "A continuació, utilitzeu aquesta màscara per indexar a la matriu de números original. Això fa que la matriu perdi la seva forma original, reduint-la a una dimensió, però encara obteniu les dades que esteu cercant."
   ]
  },
  {
   "cell_type": "code",
   "execution_count": 67,
   "id": "02f26042",
   "metadata": {},
   "outputs": [
    {
     "data": {
      "text/plain": [
       "array([4, 8, 4, 4, 8])"
      ]
     },
     "execution_count": 67,
     "metadata": {},
     "output_type": "execute_result"
    }
   ],
   "source": [
    "matriu[mask]"
   ]
  },
  {
   "cell_type": "markdown",
   "id": "7c3bb9f7",
   "metadata": {},
   "source": [
    "# Exercici 8"
   ]
  },
  {
   "cell_type": "markdown",
   "id": "335961c2",
   "metadata": {},
   "source": [
    "Carregareu qualsevol imatge (jpg, png ..) amb Matplotlib. adoneu-vos que les imatges RGB (Red, Green, Blue) són realment \n",
    "només amplades × alçades × 3 matrius (tres canals Vermell, Verd i Blau), una per cada color de nombres enters int8, \n",
    "manipuleu aquests bytes i torneu a utilitzar Matplotlib per desar la imatge modificada un cop hàgiu acabat.\n",
    "\n",
    "Mostreu-me a veure que passa quan eliminem el canal G Verd o B Blau.\n",
    "\n",
    "Mostreu-me a veure què passa quan eliminem el canal G Verd o B Blau. Hauries d'utilitzar la indexació per seleccionar el canal que voleu anul·lar.\n",
    "\n",
    "Utilitzar el mètode, mpimg.imsave () de la llibreria importada, per guardar les imatges modificades i que haureu de pujar al vostre repositori a github."
   ]
  },
  {
   "cell_type": "code",
   "execution_count": 68,
   "id": "6ec446a5",
   "metadata": {},
   "outputs": [],
   "source": [
    "import matplotlib.pyplot as plt\n",
    "import matplotlib.image as mpimg"
   ]
  },
  {
   "cell_type": "code",
   "execution_count": 69,
   "id": "6ac2f13e",
   "metadata": {},
   "outputs": [],
   "source": [
    "img = mpimg.imread(\"pompompurin.jpg\")"
   ]
  },
  {
   "cell_type": "code",
   "execution_count": 70,
   "id": "02b47625",
   "metadata": {},
   "outputs": [],
   "source": [
    "img_edit = img[:, :, 2] + img[:, :, 0]"
   ]
  },
  {
   "cell_type": "code",
   "execution_count": 71,
   "id": "1e7548f7",
   "metadata": {},
   "outputs": [],
   "source": [
    "mpimg.imsave(\"img_edit.jpg\", img_edit)"
   ]
  }
 ],
 "metadata": {
  "kernelspec": {
   "display_name": "Python 3 (ipykernel)",
   "language": "python",
   "name": "python3"
  },
  "language_info": {
   "codemirror_mode": {
    "name": "ipython",
    "version": 3
   },
   "file_extension": ".py",
   "mimetype": "text/x-python",
   "name": "python",
   "nbconvert_exporter": "python",
   "pygments_lexer": "ipython3",
   "version": "3.9.7"
  },
  "toc": {
   "base_numbering": 1,
   "nav_menu": {},
   "number_sections": true,
   "sideBar": true,
   "skip_h1_title": false,
   "title_cell": "Table of Contents",
   "title_sidebar": "Contents",
   "toc_cell": false,
   "toc_position": {},
   "toc_section_display": true,
   "toc_window_display": false
  }
 },
 "nbformat": 4,
 "nbformat_minor": 5
}
